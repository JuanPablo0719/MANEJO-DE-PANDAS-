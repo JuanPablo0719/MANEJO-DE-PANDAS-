{
 "cells": [
  {
   "cell_type": "markdown",
   "metadata": {},
   "source": [
    "# Tarea 2: Manejo de datos con pandas\n",
    "\n",
    "<img style=\"float: right; margin: 0px 0px 15px 15px;\" src=\"https://pandas.pydata.org/static/img/pandas.svg\" width=\"300px\" height=\"300px\" />\n",
    "\n",
    "Resolver cada uno de los puntos en los espacios provistos.\n",
    "\n",
    "Referencias:\n",
    "- https://towardsdatascience.com/data-science-with-python-intro-to-loading-and-subsetting-data-with-pandas-9f26895ddd7f\n",
    "- https://github.com/Ventsislav-Yordanov/Data-Science-Exercises\n",
    "___"
   ]
  },
  {
   "cell_type": "markdown",
   "metadata": {},
   "source": [
    "# Descripción de los datos\n",
    "\n",
    "En los siguientes ejercicios usarás los datos del archivo \"tips.csv\", que contiene información de propinas.\n",
    "\n",
    "Variables en las columnas:\n",
    "\n",
    "* **total_bill**: **monto de la cuenta (dólares)**\n",
    "* **tip**: **monto de la propina (dólares)**\n",
    "* **sex**: **\\[Female, Male\\], género de quien paga la cuenta**\n",
    "* **smoker**: **\\[No, Yes\\], si el grupo incluye o no fumadores**\n",
    "* **day**: **\\['Sun', 'Sat', 'Thur', 'Fri'\\], día de la semana**\n",
    "* **time**: **\\[Dinner, Lunch\\], momento aproximado del día**\n",
    "* **size**: **número de personas en el grupo**"
   ]
  },
  {
   "cell_type": "code",
   "execution_count": 1,
   "metadata": {},
   "outputs": [],
   "source": [
    "# Importar pandas\n",
    "import pandas as pd"
   ]
  },
  {
   "cell_type": "markdown",
   "metadata": {},
   "source": [
    "Importar los datos guardados en el archivo \"tips.csv\" como un DataFrame de pandas, cuyo nombre sea `tips_data`.\n",
    "\n",
    "Luego utilizar el método `head()` de DataFrames para ver las primeras 5 filas de los datos."
   ]
  },
  {
   "cell_type": "code",
   "execution_count": 11,
   "metadata": {},
   "outputs": [
    {
     "name": "stdout",
     "output_type": "stream",
     "text": [
      "   total_bill   tip     sex smoker  day    time  size\n",
      "0       16.99  1.01  Female     No  Sun  Dinner     2\n",
      "1       10.34  1.66    Male     No  Sun  Dinner     3\n",
      "2       21.01  3.50    Male     No  Sun  Dinner     3\n",
      "3       23.68  3.31    Male     No  Sun  Dinner     2\n",
      "4       24.59  3.61  Female     No  Sun  Dinner     4\n"
     ]
    }
   ],
   "source": [
    "# Importar los datos\n",
    "tips_data = pd.read_csv(\"tips.csv\") \n",
    "# Utilizar el método head() para ver las primeras 5 filas de los datos\n",
    "print(tips_data.head())"
   ]
  },
  {
   "cell_type": "markdown",
   "metadata": {},
   "source": [
    "¿Cuántas filas y columnas tiene tu DataFrame? (atributo `shape`)"
   ]
  },
  {
   "cell_type": "code",
   "execution_count": 12,
   "metadata": {},
   "outputs": [
    {
     "data": {
      "text/plain": [
       "(244, 7)"
      ]
     },
     "execution_count": 12,
     "metadata": {},
     "output_type": "execute_result"
    }
   ],
   "source": [
    "tips_data.shape"
   ]
  },
  {
   "cell_type": "markdown",
   "metadata": {},
   "source": [
    "# Análisis exploratorio de datos\n",
    "\n",
    "Esta parte ya está resuelta, solo corre las celdas para ver los resultados."
   ]
  },
  {
   "cell_type": "code",
   "execution_count": 13,
   "metadata": {},
   "outputs": [],
   "source": [
    "def print_min_max(column):\n",
    "    print(\"The min value for the column \\\"\" + column + \"\\\" is:\",  tips_data[column].min())\n",
    "    print(\"The max value for the column \\\"\" + column + \"\\\" is:\",  tips_data[column].max())"
   ]
  },
  {
   "cell_type": "code",
   "execution_count": 14,
   "metadata": {},
   "outputs": [
    {
     "name": "stdout",
     "output_type": "stream",
     "text": [
      "The min value for the column \"tip\" is: 1.0\n",
      "The max value for the column \"tip\" is: 10.0\n",
      "\n",
      "The min value for the column \"total_bill\" is: 3.07\n",
      "The max value for the column \"total_bill\" is: 50.81\n",
      "\n",
      "The min value for the column \"size\" is: 1\n",
      "The max value for the column \"size\" is: 6\n"
     ]
    }
   ],
   "source": [
    "print_min_max(\"tip\")\n",
    "print()\n",
    "print_min_max(\"total_bill\")\n",
    "print()\n",
    "print_min_max(\"size\")"
   ]
  },
  {
   "cell_type": "markdown",
   "metadata": {},
   "source": [
    "# Filtrado de datos\n",
    "\n",
    "Ya vieron para que sirve el método `head()`: para imprimir solo las primeras 5 filas de su resultado. Es decir, sirve para no desplegar DataFrames muy largos. Asegúrese de utilizar este método si no quiere que se impriman DataFrames largos."
   ]
  },
  {
   "cell_type": "markdown",
   "metadata": {},
   "source": [
    "## 1\n",
    "\n",
    "Obtener todos los registros en los cuales **la propina es igual a 10**."
   ]
  },
  {
   "cell_type": "code",
   "execution_count": 26,
   "metadata": {},
   "outputs": [
    {
     "name": "stdout",
     "output_type": "stream",
     "text": [
      "     total_bill   tip   sex smoker  day    time  size\n",
      "170       50.81  10.0  Male    Yes  Sat  Dinner     3\n"
     ]
    }
   ],
   "source": [
    "import pandas as pd\n",
    "\n",
    "# Cargar los datos desde el archivo \"tips.csv\"\n",
    "tips_data = pd.read_csv(\"tips.csv\")\n",
    "\n",
    "# Filtrar los registros donde la propina es igual a 10\n",
    "propina_igual_10 = tips_data.loc[tips_data['tip'] == 10]\n",
    "\n",
    "# Mostrar los resultados\n",
    "print(propina_igual_10)\n"
   ]
  },
  {
   "cell_type": "markdown",
   "metadata": {},
   "source": [
    "## 2\n",
    "\n",
    "Obtener todos los registros donde **el número de personas (size) es igual a 5 o 6**. "
   ]
  },
  {
   "cell_type": "code",
   "execution_count": 33,
   "metadata": {},
   "outputs": [
    {
     "name": "stdout",
     "output_type": "stream",
     "text": [
      "     total_bill   tip     sex smoker   day    time  size\n",
      "125       29.80  4.20  Female     No  Thur   Lunch     6\n",
      "141       34.30  6.70    Male     No  Thur   Lunch     6\n",
      "142       41.19  5.00    Male     No  Thur   Lunch     5\n",
      "143       27.05  5.00  Female     No  Thur   Lunch     6\n",
      "155       29.85  5.14  Female     No   Sun  Dinner     5\n",
      "156       48.17  5.00    Male     No   Sun  Dinner     6\n",
      "185       20.69  5.00    Male     No   Sun  Dinner     5\n",
      "187       30.46  2.00    Male    Yes   Sun  Dinner     5\n",
      "216       28.15  3.00    Male    Yes   Sat  Dinner     5\n"
     ]
    }
   ],
   "source": [
    "# Solución aquí\n",
    "\n",
    "# Cargar los datos desde el archivo \"tips.csv\"\n",
    "tips_data = pd.read_csv(\"tips.csv\")\n",
    "\n",
    "# Filtrar los registros de personas es igual a 5 o 6\n",
    "# El \".isin\" es un operador logico que es conocido como \"o\"\n",
    "\n",
    "personas_5_o_6 = tips_data.loc[tips_data['size'].isin([5, 6])]\n",
    "\n",
    "# Mostrar los resultados\n",
    "print(personas_5_o_6)\n",
    "\n"
   ]
  },
  {
   "cell_type": "markdown",
   "metadata": {},
   "source": [
    "## 3\n",
    "\n",
    "Obtener todos los registros donde **el grupo contenga fumadores**."
   ]
  },
  {
   "cell_type": "markdown",
   "metadata": {},
   "source": [
    "**En este ejemplo, se utiliza la función isin() para comprobar si el valor en la columna 'smoker' es igual a 'Yes' (fumadores). La función loc se utiliza para seleccionar las filas que cumplen con esta condición. El resultado se almacena en un nuevo DataFrame llamado fumadores, que contiene solo los registros donde el grupo contiene fumadores.**"
   ]
  },
  {
   "cell_type": "code",
   "execution_count": 43,
   "metadata": {},
   "outputs": [
    {
     "name": "stdout",
     "output_type": "stream",
     "text": [
      "     total_bill   tip     sex smoker  day    time  size\n",
      "56        38.01  3.00    Male    Yes  Sat  Dinner     4\n",
      "58        11.24  1.76    Male    Yes  Sat  Dinner     2\n",
      "60        20.29  3.21    Male    Yes  Sat  Dinner     2\n",
      "61        13.81  2.00    Male    Yes  Sat  Dinner     2\n",
      "62        11.02  1.98    Male    Yes  Sat  Dinner     2\n",
      "..          ...   ...     ...    ...  ...     ...   ...\n",
      "234       15.53  3.00    Male    Yes  Sat  Dinner     2\n",
      "236       12.60  1.00    Male    Yes  Sat  Dinner     2\n",
      "237       32.83  1.17    Male    Yes  Sat  Dinner     2\n",
      "240       27.18  2.00  Female    Yes  Sat  Dinner     2\n",
      "241       22.67  2.00    Male    Yes  Sat  Dinner     2\n",
      "\n",
      "[93 rows x 7 columns]\n"
     ]
    }
   ],
   "source": [
    "# Solución aquí\n",
    "\n",
    "# Cargar los datos desde el archivo \"tips.csv\"\n",
    "tips_data = pd.read_csv(\"tips.csv\")\n",
    "\n",
    "# Filtrar los registros de personas fumadores\n",
    "\n",
    "\n",
    "smokers = tips_data.loc[tips_data['smoker'].isin([\"Yes\"])]\n",
    "\n",
    "# Mostrar los resultados\n",
    "print(smokers)"
   ]
  },
  {
   "cell_type": "markdown",
   "metadata": {},
   "source": [
    "## 4\n",
    "\n",
    "Obtener todos los registros donde **el grupo no contenga fumadores**."
   ]
  },
  {
   "cell_type": "markdown",
   "metadata": {},
   "source": [
    "**En este código, ~ se utiliza para negar la condición, es decir, seleccionar las filas donde el valor en la columna 'smoker' no es igual a 'Yes'. El resultado se almacena en un nuevo DataFrame llamado no_fumadores, que contiene solo los registros donde el grupo no contiene fumadores.**"
   ]
  },
  {
   "cell_type": "code",
   "execution_count": 44,
   "metadata": {},
   "outputs": [
    {
     "name": "stdout",
     "output_type": "stream",
     "text": [
      "     total_bill   tip     sex smoker   day    time  size\n",
      "0         16.99  1.01  Female     No   Sun  Dinner     2\n",
      "1         10.34  1.66    Male     No   Sun  Dinner     3\n",
      "2         21.01  3.50    Male     No   Sun  Dinner     3\n",
      "3         23.68  3.31    Male     No   Sun  Dinner     2\n",
      "4         24.59  3.61  Female     No   Sun  Dinner     4\n",
      "..          ...   ...     ...    ...   ...     ...   ...\n",
      "235       10.07  1.25    Male     No   Sat  Dinner     2\n",
      "238       35.83  4.67  Female     No   Sat  Dinner     3\n",
      "239       29.03  5.92    Male     No   Sat  Dinner     3\n",
      "242       17.82  1.75    Male     No   Sat  Dinner     2\n",
      "243       18.78  3.00  Female     No  Thur  Dinner     2\n",
      "\n",
      "[151 rows x 7 columns]\n"
     ]
    }
   ],
   "source": [
    "import pandas as pd\n",
    "\n",
    "# Cargar los datos desde el archivo \"tips.csv\"\n",
    "tips_data = pd.read_csv(\"tips.csv\")\n",
    "\n",
    "# Filtrar los registros donde el grupo no contenga fumadores\n",
    "no_smokers = tips_data.loc[~tips_data['smoker'].isin(['Yes'])]\n",
    "\n",
    "# Mostrar los resultados\n",
    "print(no_smokers)\n"
   ]
  },
  {
   "cell_type": "markdown",
   "metadata": {},
   "source": [
    "## 5\n",
    "\n",
    "Obtener todos los registros donde **la propina sea igual a 5, 7 o 10**"
   ]
  },
  {
   "cell_type": "code",
   "execution_count": 45,
   "metadata": {},
   "outputs": [
    {
     "name": "stdout",
     "output_type": "stream",
     "text": [
      "     total_bill   tip     sex smoker   day    time  size\n",
      "11        35.26   5.0  Female     No   Sun  Dinner     4\n",
      "39        31.27   5.0    Male     No   Sat  Dinner     3\n",
      "46        22.23   5.0    Male     No   Sun  Dinner     2\n",
      "73        25.28   5.0  Female    Yes   Sat  Dinner     2\n",
      "83        32.68   5.0    Male    Yes  Thur   Lunch     2\n",
      "142       41.19   5.0    Male     No  Thur   Lunch     5\n",
      "143       27.05   5.0  Female     No  Thur   Lunch     6\n",
      "156       48.17   5.0    Male     No   Sun  Dinner     6\n",
      "170       50.81  10.0    Male    Yes   Sat  Dinner     3\n",
      "185       20.69   5.0    Male     No   Sun  Dinner     5\n",
      "197       43.11   5.0  Female    Yes  Thur   Lunch     4\n"
     ]
    }
   ],
   "source": [
    "# Solución aquí\n",
    "\n",
    "# Cargar los datos desde el archivo \"tips.csv\"\n",
    "\n",
    "tips_data = pd.read_csv(\"tips.csv\")\n",
    "\n",
    "# Filtrar los registros donde la propina es igual a 10\n",
    "propina_5_7_10 = tips_data.loc[tips_data['tip'].isin([5, 7,10])]\n",
    "\n",
    "# Mostrar los resultados\n",
    "print(propina_5_7_10)"
   ]
  },
  {
   "cell_type": "markdown",
   "metadata": {},
   "source": [
    "## 6\n",
    "\n",
    "Obtenga todos los registros donde **el día sea Sábado o Domingo**."
   ]
  },
  {
   "cell_type": "code",
   "execution_count": 49,
   "metadata": {},
   "outputs": [
    {
     "name": "stdout",
     "output_type": "stream",
     "text": [
      "     total_bill   tip     sex smoker  day    time  size\n",
      "0         16.99  1.01  Female     No  Sun  Dinner     2\n",
      "1         10.34  1.66    Male     No  Sun  Dinner     3\n",
      "2         21.01  3.50    Male     No  Sun  Dinner     3\n",
      "3         23.68  3.31    Male     No  Sun  Dinner     2\n",
      "4         24.59  3.61  Female     No  Sun  Dinner     4\n",
      "..          ...   ...     ...    ...  ...     ...   ...\n",
      "238       35.83  4.67  Female     No  Sat  Dinner     3\n",
      "239       29.03  5.92    Male     No  Sat  Dinner     3\n",
      "240       27.18  2.00  Female    Yes  Sat  Dinner     2\n",
      "241       22.67  2.00    Male    Yes  Sat  Dinner     2\n",
      "242       17.82  1.75    Male     No  Sat  Dinner     2\n",
      "\n",
      "[163 rows x 7 columns]\n"
     ]
    }
   ],
   "source": [
    "# Solución aquí\n",
    "\n",
    "# Cargar los datos desde el archivo \"tips.csv\"\n",
    "tips_data = pd.read_csv(\"tips.csv\")\n",
    "\n",
    "Fin_semana = tips_data.loc[tips_data['day'].isin([\"Sat\",\"Sun\"])]\n",
    "\n",
    "# Mostrar los resultados\n",
    "print(Fin_semana)"
   ]
  },
  {
   "cell_type": "markdown",
   "metadata": {},
   "source": [
    "## 7\n",
    "\n",
    "Obtenga todos los registros donde **el número de personas sea mayor a 4** y **quien pague la cuenta sea una mujer**."
   ]
  },
  {
   "cell_type": "markdown",
   "metadata": {},
   "source": [
    "**En este ejemplo, se utilizan condiciones booleanas para seleccionar las filas donde el número de personas (size) es mayor a 4 y el género (sex) es femenino. El operador & se utiliza para combinar ambas condiciones con la lógica \"y\". El resultado se almacena en un nuevo DataFrame llamado resultado, que contiene solo los registros que cumplen con ambas condiciones.**"
   ]
  },
  {
   "cell_type": "code",
   "execution_count": 52,
   "metadata": {},
   "outputs": [
    {
     "name": "stdout",
     "output_type": "stream",
     "text": [
      "     total_bill   tip     sex smoker   day    time  size\n",
      "125       29.80  4.20  Female     No  Thur   Lunch     6\n",
      "143       27.05  5.00  Female     No  Thur   Lunch     6\n",
      "155       29.85  5.14  Female     No   Sun  Dinner     5\n"
     ]
    }
   ],
   "source": [
    "\n",
    "# Cargar los datos desde el archivo \"tips.csv\"\n",
    "tips_data = pd.read_csv(\"tips.csv\")\n",
    "\n",
    "# Filtrar los registros con las condiciones especificadas\n",
    "condiciones = (tips_data['size'] > 4) & (tips_data['sex'] == 'Female')\n",
    "resultado = tips_data.loc[condiciones]\n",
    "\n",
    "# Mostrar los resultados\n",
    "print(resultado)\n"
   ]
  },
  {
   "cell_type": "markdown",
   "metadata": {},
   "source": [
    "## 8\n",
    "\n",
    "Obtenga todos los registros donde **la cuenta total sea mayor a 40** y **la propina sea mayor que 5**"
   ]
  },
  {
   "cell_type": "code",
   "execution_count": 53,
   "metadata": {},
   "outputs": [
    {
     "name": "stdout",
     "output_type": "stream",
     "text": [
      "     total_bill    tip   sex smoker  day    time  size\n",
      "59        48.27   6.73  Male     No  Sat  Dinner     4\n",
      "170       50.81  10.00  Male    Yes  Sat  Dinner     3\n",
      "212       48.33   9.00  Male     No  Sat  Dinner     4\n"
     ]
    }
   ],
   "source": [
    "# Solución aquí\n",
    "\n",
    "# Cargar los datos desde el archivo \"tips.csv\"\n",
    "tips_data = pd.read_csv(\"tips.csv\")\n",
    "\n",
    "# Filtrar los registros con las condiciones especificadas\n",
    "condicion2 = (tips_data['total_bill'] > 40) & (tips_data['tip'] >5)\n",
    "resultado = tips_data.loc[condicion2]\n",
    "\n",
    "# Mostrar los resultados\n",
    "print(resultado)"
   ]
  },
  {
   "cell_type": "markdown",
   "metadata": {},
   "source": [
    "## 9\n",
    "\n",
    "Obtener todos los registros donde el **número de personas sea mayor que 4** o **el momento de asistencia sea una cena**"
   ]
  },
  {
   "cell_type": "code",
   "execution_count": 54,
   "metadata": {},
   "outputs": [
    {
     "name": "stdout",
     "output_type": "stream",
     "text": [
      "     total_bill   tip     sex smoker  day    time  size\n",
      "155       29.85  5.14  Female     No  Sun  Dinner     5\n",
      "156       48.17  5.00    Male     No  Sun  Dinner     6\n",
      "185       20.69  5.00    Male     No  Sun  Dinner     5\n",
      "187       30.46  2.00    Male    Yes  Sun  Dinner     5\n",
      "216       28.15  3.00    Male    Yes  Sat  Dinner     5\n"
     ]
    }
   ],
   "source": [
    "# Solución aquí\n",
    "\n",
    "# Cargar los datos desde el archivo \"tips.csv\"\n",
    "tips_data = pd.read_csv(\"tips.csv\")\n",
    "\n",
    "# Filtrar los registros con las condiciones especificadas\n",
    "condicion3 = (tips_data['size'] > 4) & (tips_data['time'] == \"Dinner\")\n",
    "resultado = tips_data.loc[condicion3]\n",
    "\n",
    "# Mostrar los resultados\n",
    "print(resultado)"
   ]
  },
  {
   "cell_type": "markdown",
   "metadata": {},
   "source": [
    "## 10\n",
    "\n",
    "Obtener todos los registros donde **no hayan fumadores**, la **cuenta total sea mayor a 30**, y **el día sea jueves o viernes**."
   ]
  },
  {
   "cell_type": "code",
   "execution_count": 63,
   "metadata": {},
   "outputs": [
    {
     "name": "stdout",
     "output_type": "stream",
     "text": [
      "Empty DataFrame\n",
      "Columns: [total_bill, tip, sex, smoker, day, time, size]\n",
      "Index: []\n"
     ]
    }
   ],
   "source": [
    "import pandas as pd\n",
    "\n",
    "# Cargar los datos desde el archivo \"tips.csv\"\n",
    "tips_data = pd.read_csv(\"tips.csv\")\n",
    "\n",
    "# Filtrar los registros con las condiciones especificadas\n",
    "condicion5 = (~tips_data['smoker'].isin(['Yes'])) & (tips_data['total_bill'] > 30) & (tips_data['day'].isin(['Thu', 'Fri']))\n",
    "resultado = tips_data.loc[condicion5]\n",
    "\n",
    "# Mostrar los resultados\n",
    "print(resultado)\n"
   ]
  },
  {
   "cell_type": "markdown",
   "metadata": {},
   "source": [
    "## 11\n",
    "\n",
    "Obtener todos los registros donde **el día sea viernes o sábado**, el **momento de asistencia sea para la comida**, y el **número de personas sea menor a 4**."
   ]
  },
  {
   "cell_type": "code",
   "execution_count": 69,
   "metadata": {},
   "outputs": [
    {
     "name": "stdout",
     "output_type": "stream",
     "text": [
      "     total_bill   tip     sex smoker  day   time  size\n",
      "220       12.16  2.20    Male    Yes  Fri  Lunch     2\n",
      "221       13.42  3.48  Female    Yes  Fri  Lunch     2\n",
      "222        8.58  1.92    Male    Yes  Fri  Lunch     1\n",
      "223       15.98  3.00  Female     No  Fri  Lunch     3\n",
      "224       13.42  1.58    Male    Yes  Fri  Lunch     2\n",
      "225       16.27  2.50  Female    Yes  Fri  Lunch     2\n",
      "226       10.09  2.00  Female    Yes  Fri  Lunch     2\n"
     ]
    }
   ],
   "source": [
    "# Solución aquí\n",
    "\n",
    "# Cargar los datos desde el archivo \"tips.csv\"\n",
    "tips_data = pd.read_csv(\"tips.csv\")\n",
    "\n",
    "# Filtrar los registros con las condiciones especificadas\n",
    "condicion11 = (tips_data['day'].isin(['Fri', 'Sat'])) & (tips_data['time'] == 'Lunch') & (tips_data['size'] < 4)\n",
    "              \n",
    "resultado = tips_data.loc[condicion11]\n",
    "\n",
    "# Mostrar los resultados\n",
    "print(resultado)\n"
   ]
  },
  {
   "cell_type": "markdown",
   "metadata": {},
   "source": [
    "## 12\n",
    "\n",
    "<!-- Obtener todos los registros donde -->\n",
    "\n",
    "el **día sea viernes**, el **número de personas sea menor a 3**, y **quien pague la cuenta sea una mujer**\n",
    "\n",
    "o\n",
    "\n",
    "el **día sea domingo**, el **número de personas sea mayor a 4**, y **quien pague la cuenta sea un hombre**."
   ]
  },
  {
   "cell_type": "code",
   "execution_count": 74,
   "metadata": {},
   "outputs": [
    {
     "name": "stdout",
     "output_type": "stream",
     "text": [
      "     total_bill   tip     sex smoker   day    time  size\n",
      "0         16.99  1.01  Female     No   Sun  Dinner     2\n",
      "14        14.83  3.02  Female     No   Sun  Dinner     2\n",
      "21        20.29  2.75  Female     No   Sat  Dinner     2\n",
      "22        15.77  2.23  Female     No   Sat  Dinner     2\n",
      "29        19.65  3.00  Female     No   Sat  Dinner     2\n",
      "..          ...   ...     ...    ...   ...     ...   ...\n",
      "225       16.27  2.50  Female    Yes   Fri   Lunch     2\n",
      "226       10.09  2.00  Female    Yes   Fri   Lunch     2\n",
      "229       22.12  2.88  Female    Yes   Sat  Dinner     2\n",
      "240       27.18  2.00  Female    Yes   Sat  Dinner     2\n",
      "243       18.78  3.00  Female     No  Thur  Dinner     2\n",
      "\n",
      "[64 rows x 7 columns]\n"
     ]
    }
   ],
   "source": [
    "# Solución aquí\n",
    "\n",
    "# Cargar los datos desde el archivo \"tips.csv\"\n",
    "tips_data = pd.read_csv(\"tips.csv\")\n",
    "\n",
    "# Filtrar los registros con las condiciones especificadas\n",
    "opcion1 = (tips_data['size'] < 3) & (tips_data['sex'] == 'Female') \n",
    "opcion2 = (tips_data['day'] == 'Sun') & (tips_data['size'] > 4) & (tips_data['sex'] == 'Male') \n",
    "              \n",
    "resultado = tips_data.loc[opcion1 | opcion2]\n",
    "\n",
    "# Mostrar los resultados\n",
    "print(resultado)\n",
    "\n"
   ]
  },
  {
   "cell_type": "markdown",
   "metadata": {},
   "source": [
    "En este ejemplo, se utilizan condiciones booleanas para cada uno de los escenarios especificados. El operador & se utiliza para combinar condiciones dentro de cada escenario, y el operador | se utiliza para combinar ambos escenarios con la lógica \"o\". El resultado se almacena en un nuevo DataFrame llamado resultado, que contiene solo los registros que cumplen con al menos una de las condiciones especificadas."
   ]
  },
  {
   "cell_type": "markdown",
   "metadata": {},
   "source": [
    "<script>\n",
    "  $(document).ready(function(){\n",
    "    $('div.prompt').hide();\n",
    "    $('div.back-to-top').hide();\n",
    "    $('nav#menubar').hide();\n",
    "    $('.breadcrumb').hide();\n",
    "    $('.hidden-print').hide();\n",
    "  });\n",
    "</script>\n",
    "\n",
    "<footer id=\"attribution\" style=\"float:right; color:#808080; background:#fff;\">\n",
    "Created with Jupyter by Carlos Kelly.\n",
    "</footer>"
   ]
  }
 ],
 "metadata": {
  "kernelspec": {
   "display_name": "Python 3 (ipykernel)",
   "language": "python",
   "name": "python3"
  },
  "language_info": {
   "codemirror_mode": {
    "name": "ipython",
    "version": 3
   },
   "file_extension": ".py",
   "mimetype": "text/x-python",
   "name": "python",
   "nbconvert_exporter": "python",
   "pygments_lexer": "ipython3",
   "version": "3.9.13"
  }
 },
 "nbformat": 4,
 "nbformat_minor": 4
}
